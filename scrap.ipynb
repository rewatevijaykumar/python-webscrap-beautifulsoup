{
 "nbformat": 4,
 "nbformat_minor": 2,
 "metadata": {
  "language_info": {
   "name": "python",
   "codemirror_mode": {
    "name": "ipython",
    "version": 3
   },
   "version": "3.7.7-final"
  },
  "orig_nbformat": 2,
  "file_extension": ".py",
  "mimetype": "text/x-python",
  "name": "python",
  "npconvert_exporter": "python",
  "pygments_lexer": "ipython3",
  "version": 3,
  "kernelspec": {
   "name": "python37764bitvenvvenve36d9d0c0abb4b0f9e6d5972b1b9c39b",
   "display_name": "Python 3.7.7 64-bit ('venv': venv)"
  }
 },
 "cells": [
  {
   "cell_type": "markdown",
   "metadata": {},
   "source": [
    "# CORONA VIRUS DATA - Webscrapper - BeautifulSoup"
   ]
  },
  {
   "cell_type": "markdown",
   "metadata": {},
   "source": [
    "To scrape a web page we need to download the page. We can download pages using the Python requests library. <br>\n",
    "The requests library will make a GET request to a web server, which will download the HTML contents of a given web page for us. <br>\n",
    "Parsing a page with BeautifulSoup <br>\n",
    "We can use the BeautifulSoup library to parse document, and extract the text."
   ]
  },
  {
   "cell_type": "markdown",
   "metadata": {},
   "source": [
    "Install BeautifulSoup and Requests python libraries\n",
    "pip install pip install beautifulsoup4\n",
    "pip install requests"
   ]
  },
  {
   "cell_type": "code",
   "execution_count": 1,
   "metadata": {},
   "outputs": [],
   "source": [
    "from bs4 import BeautifulSoup\n",
    "import requests"
   ]
  },
  {
   "cell_type": "markdown",
   "metadata": {},
   "source": [
    "The requests library will make a GET request to a web server and parse using beautiful soup"
   ]
  },
  {
   "cell_type": "code",
   "execution_count": 2,
   "metadata": {},
   "outputs": [],
   "source": [
    "url = \"https://www.worldometers.info/coronavirus/#countries\"\n",
    "\n",
    "request = requests.get(url)"
   ]
  },
  {
   "cell_type": "code",
   "execution_count": 3,
   "metadata": {},
   "outputs": [],
   "source": [
    "soup = BeautifulSoup(request.content, 'html.parser')"
   ]
  },
  {
   "cell_type": "markdown",
   "metadata": {},
   "source": [
    "Find particular table using class attributes"
   ]
  },
  {
   "cell_type": "code",
   "execution_count": 4,
   "metadata": {},
   "outputs": [],
   "source": [
    "tables_container = soup.find('table', attrs={'class':'main_table_countries'})"
   ]
  },
  {
   "cell_type": "markdown",
   "metadata": {},
   "source": [
    "Create lists to store values"
   ]
  },
  {
   "cell_type": "code",
   "execution_count": 5,
   "metadata": {},
   "outputs": [],
   "source": [
    "countries = []\n",
    "total_cases = []\n",
    "new_cases = []\n",
    "total_deaths = []\n",
    "new_deaths = []\n",
    "total_recoveries = []\n",
    "active_cases = []\n",
    "serious_criticals = []\n",
    "total_tests = []"
   ]
  },
  {
   "cell_type": "markdown",
   "metadata": {},
   "source": [
    "Store all rows of table in rows"
   ]
  },
  {
   "cell_type": "code",
   "execution_count": 6,
   "metadata": {},
   "outputs": [],
   "source": [
    "rows = tables_container.find_all('tr')\n",
    ""
   ]
  },
  {
   "cell_type": "markdown",
   "metadata": {},
   "source": [
    "Fetch each row using for loop and store data in each row"
   ]
  },
  {
   "cell_type": "code",
   "execution_count": 7,
   "metadata": {},
   "outputs": [],
   "source": [
    "for row in rows:\n",
    "    cells = row.find_all('td')\n",
    "    # cells\n",
    "\n",
    "    if(len(cells)>1):\n",
    "        try:\n",
    "            country=cells[0].a.text\n",
    "            # country = cells[0].text\n",
    "            countries.append(country)\n",
    "        except:\n",
    "            countries.append('None')\n",
    "\n",
    "        total_case=cells[1]\n",
    "        total_cases.append(total_case.text)\n",
    "                \n",
    "        try:\n",
    "            new_case=cells[2]\n",
    "            new_cases.append(new_case.text)\n",
    "        except:\n",
    "            new_cases.append('None')\n",
    "                        \n",
    "        total_death=cells[3]\n",
    "        total_deaths.append(total_death.text)\n",
    "                \n",
    "        try:\n",
    "            new_death=cells[4]\n",
    "            new_deaths.append(new_death.text)\n",
    "        except:\n",
    "            new_deaths.append('None')\n",
    "\n",
    "        total_recover=cells[5]\n",
    "        total_recoveries.append(total_recover.text)\n",
    "\n",
    "        active_case=cells[6]\n",
    "        active_cases.append(active_case.text)\n",
    "\n",
    "        serious_critical=cells[7]\n",
    "        serious_criticals.append(serious_critical.text)\n",
    "        \n",
    "        total_test=cells[10]\n",
    "        total_tests.append(total_test.text)"
   ]
  },
  {
   "cell_type": "markdown",
   "metadata": {},
   "source": [
    "Print length of each list to check if all are having same value to store in dataframe"
   ]
  },
  {
   "cell_type": "code",
   "execution_count": 8,
   "metadata": {},
   "outputs": [
    {
     "output_type": "stream",
     "name": "stdout",
     "text": "228\n"
    }
   ],
   "source": [
    "print(len(countries))"
   ]
  },
  {
   "cell_type": "code",
   "execution_count": 9,
   "metadata": {},
   "outputs": [
    {
     "output_type": "stream",
     "name": "stdout",
     "text": "228\n"
    }
   ],
   "source": [
    "print(len(total_cases))"
   ]
  },
  {
   "cell_type": "code",
   "execution_count": 10,
   "metadata": {},
   "outputs": [
    {
     "output_type": "stream",
     "name": "stdout",
     "text": "228\n"
    }
   ],
   "source": [
    "print(len(new_cases))"
   ]
  },
  {
   "cell_type": "code",
   "execution_count": 11,
   "metadata": {},
   "outputs": [
    {
     "output_type": "stream",
     "name": "stdout",
     "text": "228\n"
    }
   ],
   "source": [
    "print(len(total_deaths))"
   ]
  },
  {
   "cell_type": "code",
   "execution_count": 12,
   "metadata": {},
   "outputs": [
    {
     "output_type": "stream",
     "name": "stdout",
     "text": "228\n"
    }
   ],
   "source": [
    "print(len(new_deaths))\n",
    "# new_deaths"
   ]
  },
  {
   "cell_type": "code",
   "execution_count": 13,
   "metadata": {},
   "outputs": [
    {
     "output_type": "stream",
     "name": "stdout",
     "text": "228\n"
    }
   ],
   "source": [
    "print(len(total_recoveries))"
   ]
  },
  {
   "cell_type": "code",
   "execution_count": 14,
   "metadata": {},
   "outputs": [
    {
     "output_type": "stream",
     "name": "stdout",
     "text": "228\n"
    }
   ],
   "source": [
    "print(len(active_cases))"
   ]
  },
  {
   "cell_type": "code",
   "execution_count": 15,
   "metadata": {},
   "outputs": [
    {
     "output_type": "stream",
     "name": "stdout",
     "text": "228\n"
    }
   ],
   "source": [
    "print(len(serious_criticals))"
   ]
  },
  {
   "cell_type": "code",
   "execution_count": 16,
   "metadata": {},
   "outputs": [
    {
     "output_type": "stream",
     "name": "stdout",
     "text": "228\n"
    }
   ],
   "source": [
    "print(len(total_tests))"
   ]
  },
  {
   "cell_type": "markdown",
   "metadata": {},
   "source": [
    "Import pandas and numpy libraries to perform data cleaning and manipulating data.\n",
    "DataFrames allow you to store and manipulate tabular data in rows of observations and columns of variables."
   ]
  },
  {
   "cell_type": "code",
   "execution_count": 17,
   "metadata": {},
   "outputs": [],
   "source": [
    "import pandas as pd\n",
    "import numpy as np"
   ]
  },
  {
   "cell_type": "markdown",
   "metadata": {},
   "source": [
    "Create dataframe to store values from each list in seperate columns"
   ]
  },
  {
   "cell_type": "code",
   "execution_count": 24,
   "metadata": {},
   "outputs": [],
   "source": [
    "df = pd.DataFrame({'Country': countries,\n",
    "'Total_Cases':total_cases,\n",
    "'New_Cases':new_cases,\n",
    "'Total_Deaths':total_deaths,\n",
    "'New_Deaths':new_deaths,\n",
    "'Total_Recovered':total_recoveries,\n",
    "'Active_Cases':active_cases,\n",
    "'Serious_Critical':serious_criticals,\n",
    "'Total_Tests':total_tests\n",
    "})"
   ]
  },
  {
   "cell_type": "markdown",
   "metadata": {},
   "source": [
    "Drop rows where country is having none value"
   ]
  },
  {
   "cell_type": "code",
   "execution_count": 25,
   "metadata": {},
   "outputs": [],
   "source": [
    "df.drop(df.index[df['Country'] == 'None'], inplace = True)"
   ]
  },
  {
   "cell_type": "code",
   "execution_count": 26,
   "metadata": {},
   "outputs": [
    {
     "output_type": "execute_result",
     "data": {
      "text/plain": "8                        USA\n9                      Spain\n10                     Italy\n11                    France\n12                   Germany\n               ...          \n215    Caribbean Netherlands\n216         Papua New Guinea\n217    Saint Pierre Miquelon\n218                    Yemen\n219                    China\nName: Country, Length: 210, dtype: object"
     },
     "metadata": {},
     "execution_count": 26
    }
   ],
   "source": [
    "df['Country']"
   ]
  },
  {
   "cell_type": "markdown",
   "metadata": {},
   "source": [
    "Reset index to start with 1"
   ]
  },
  {
   "cell_type": "code",
   "execution_count": 27,
   "metadata": {},
   "outputs": [],
   "source": [
    "# df.reset_index(drop=True,inplace=True) ####for index from 0\n",
    "df.index = np.arange(1, len(df)+1) ### for index from 1"
   ]
  },
  {
   "cell_type": "code",
   "execution_count": 28,
   "metadata": {},
   "outputs": [
    {
     "output_type": "execute_result",
     "data": {
      "text/plain": "                   Country Total_Cases New_Cases Total_Deaths New_Deaths  \\\n1                      USA     560,433      +133      22,115         +10   \n2                    Spain     169,496    +2,665      17,489        +280   \n3                    Italy     156,363                19,899               \n4                   France     132,591                14,393               \n5                  Germany     127,854                 3,022               \n..                     ...         ...       ...          ...        ...   \n206  Caribbean Netherlands           3                                     \n207       Papua New Guinea           2                                     \n208  Saint Pierre Miquelon           1                                     \n209                  Yemen           1                                     \n210                  China      82,160      +108       3,341          +2   \n\n    Total_Recovered Active_Cases Serious_Critical Total_Tests  \n1            32,634      505,684           11,766   2,833,112  \n2            64,727       87,280            7,371     600,000  \n3            34,211      102,253            3,343   1,010,193  \n4            27,186       91,012            6,845     333,807  \n5            64,300       60,532            4,895   1,317,887  \n..              ...          ...              ...         ...  \n206                            3                           10  \n207                            2                           72  \n208                            1                               \n209                            1                               \n210          77,663        1,156              121              \n\n[210 rows x 9 columns]",
      "text/html": "<div>\n<style scoped>\n    .dataframe tbody tr th:only-of-type {\n        vertical-align: middle;\n    }\n\n    .dataframe tbody tr th {\n        vertical-align: top;\n    }\n\n    .dataframe thead th {\n        text-align: right;\n    }\n</style>\n<table border=\"1\" class=\"dataframe\">\n  <thead>\n    <tr style=\"text-align: right;\">\n      <th></th>\n      <th>Country</th>\n      <th>Total_Cases</th>\n      <th>New_Cases</th>\n      <th>Total_Deaths</th>\n      <th>New_Deaths</th>\n      <th>Total_Recovered</th>\n      <th>Active_Cases</th>\n      <th>Serious_Critical</th>\n      <th>Total_Tests</th>\n    </tr>\n  </thead>\n  <tbody>\n    <tr>\n      <th>1</th>\n      <td>USA</td>\n      <td>560,433</td>\n      <td>+133</td>\n      <td>22,115</td>\n      <td>+10</td>\n      <td>32,634</td>\n      <td>505,684</td>\n      <td>11,766</td>\n      <td>2,833,112</td>\n    </tr>\n    <tr>\n      <th>2</th>\n      <td>Spain</td>\n      <td>169,496</td>\n      <td>+2,665</td>\n      <td>17,489</td>\n      <td>+280</td>\n      <td>64,727</td>\n      <td>87,280</td>\n      <td>7,371</td>\n      <td>600,000</td>\n    </tr>\n    <tr>\n      <th>3</th>\n      <td>Italy</td>\n      <td>156,363</td>\n      <td></td>\n      <td>19,899</td>\n      <td></td>\n      <td>34,211</td>\n      <td>102,253</td>\n      <td>3,343</td>\n      <td>1,010,193</td>\n    </tr>\n    <tr>\n      <th>4</th>\n      <td>France</td>\n      <td>132,591</td>\n      <td></td>\n      <td>14,393</td>\n      <td></td>\n      <td>27,186</td>\n      <td>91,012</td>\n      <td>6,845</td>\n      <td>333,807</td>\n    </tr>\n    <tr>\n      <th>5</th>\n      <td>Germany</td>\n      <td>127,854</td>\n      <td></td>\n      <td>3,022</td>\n      <td></td>\n      <td>64,300</td>\n      <td>60,532</td>\n      <td>4,895</td>\n      <td>1,317,887</td>\n    </tr>\n    <tr>\n      <th>...</th>\n      <td>...</td>\n      <td>...</td>\n      <td>...</td>\n      <td>...</td>\n      <td>...</td>\n      <td>...</td>\n      <td>...</td>\n      <td>...</td>\n      <td>...</td>\n    </tr>\n    <tr>\n      <th>206</th>\n      <td>Caribbean Netherlands</td>\n      <td>3</td>\n      <td></td>\n      <td></td>\n      <td></td>\n      <td></td>\n      <td>3</td>\n      <td></td>\n      <td>10</td>\n    </tr>\n    <tr>\n      <th>207</th>\n      <td>Papua New Guinea</td>\n      <td>2</td>\n      <td></td>\n      <td></td>\n      <td></td>\n      <td></td>\n      <td>2</td>\n      <td></td>\n      <td>72</td>\n    </tr>\n    <tr>\n      <th>208</th>\n      <td>Saint Pierre Miquelon</td>\n      <td>1</td>\n      <td></td>\n      <td></td>\n      <td></td>\n      <td></td>\n      <td>1</td>\n      <td></td>\n      <td></td>\n    </tr>\n    <tr>\n      <th>209</th>\n      <td>Yemen</td>\n      <td>1</td>\n      <td></td>\n      <td></td>\n      <td></td>\n      <td></td>\n      <td>1</td>\n      <td></td>\n      <td></td>\n    </tr>\n    <tr>\n      <th>210</th>\n      <td>China</td>\n      <td>82,160</td>\n      <td>+108</td>\n      <td>3,341</td>\n      <td>+2</td>\n      <td>77,663</td>\n      <td>1,156</td>\n      <td>121</td>\n      <td></td>\n    </tr>\n  </tbody>\n</table>\n<p>210 rows × 9 columns</p>\n</div>"
     },
     "metadata": {},
     "execution_count": 28
    }
   ],
   "source": [
    "df"
   ]
  },
  {
   "cell_type": "code",
   "execution_count": 30,
   "metadata": {},
   "outputs": [
    {
     "output_type": "execute_result",
     "data": {
      "text/plain": "                   Country Total_Cases New_Cases Total_Deaths New_Deaths  \\\n206  Caribbean Netherlands           3                                     \n207       Papua New Guinea           2                                     \n208  Saint Pierre Miquelon           1                                     \n209                  Yemen           1                                     \n210                  China      82,160      +108       3,341          +2   \n\n    Total_Recovered Active_Cases Serious_Critical Total_Tests  \n206                            3                           10  \n207                            2                           72  \n208                            1                               \n209                            1                               \n210          77,663        1,156              121              ",
      "text/html": "<div>\n<style scoped>\n    .dataframe tbody tr th:only-of-type {\n        vertical-align: middle;\n    }\n\n    .dataframe tbody tr th {\n        vertical-align: top;\n    }\n\n    .dataframe thead th {\n        text-align: right;\n    }\n</style>\n<table border=\"1\" class=\"dataframe\">\n  <thead>\n    <tr style=\"text-align: right;\">\n      <th></th>\n      <th>Country</th>\n      <th>Total_Cases</th>\n      <th>New_Cases</th>\n      <th>Total_Deaths</th>\n      <th>New_Deaths</th>\n      <th>Total_Recovered</th>\n      <th>Active_Cases</th>\n      <th>Serious_Critical</th>\n      <th>Total_Tests</th>\n    </tr>\n  </thead>\n  <tbody>\n    <tr>\n      <th>206</th>\n      <td>Caribbean Netherlands</td>\n      <td>3</td>\n      <td></td>\n      <td></td>\n      <td></td>\n      <td></td>\n      <td>3</td>\n      <td></td>\n      <td>10</td>\n    </tr>\n    <tr>\n      <th>207</th>\n      <td>Papua New Guinea</td>\n      <td>2</td>\n      <td></td>\n      <td></td>\n      <td></td>\n      <td></td>\n      <td>2</td>\n      <td></td>\n      <td>72</td>\n    </tr>\n    <tr>\n      <th>208</th>\n      <td>Saint Pierre Miquelon</td>\n      <td>1</td>\n      <td></td>\n      <td></td>\n      <td></td>\n      <td></td>\n      <td>1</td>\n      <td></td>\n      <td></td>\n    </tr>\n    <tr>\n      <th>209</th>\n      <td>Yemen</td>\n      <td>1</td>\n      <td></td>\n      <td></td>\n      <td></td>\n      <td></td>\n      <td>1</td>\n      <td></td>\n      <td></td>\n    </tr>\n    <tr>\n      <th>210</th>\n      <td>China</td>\n      <td>82,160</td>\n      <td>+108</td>\n      <td>3,341</td>\n      <td>+2</td>\n      <td>77,663</td>\n      <td>1,156</td>\n      <td>121</td>\n      <td></td>\n    </tr>\n  </tbody>\n</table>\n</div>"
     },
     "metadata": {},
     "execution_count": 30
    }
   ],
   "source": [
    "df.tail()"
   ]
  },
  {
   "cell_type": "markdown",
   "metadata": {},
   "source": [
    "Remove '+' symbol from New_Deaths column"
   ]
  },
  {
   "cell_type": "code",
   "execution_count": 31,
   "metadata": {},
   "outputs": [],
   "source": [
    "# <dont -use> df['New Deaths'] = df['New Deaths'].str.split('+') <br>\n",
    "# <dont -use> df['New Deaths'] = df['New Deaths'].apply(lambda x: {i for sub in x for i in sub.split('-')}) <br>\n",
    "# <dont -use> df['New Deaths'] = df['New Deaths'].str.replace(r'\\b(\\w+)(\\s+\\1)+\\b', r'\\1') <br>\n",
    "# to replace + in single column <br>\n",
    "df['New_Deaths'] = df['New_Deaths'].str.replace(r'+','')\n",
    ""
   ]
  },
  {
   "cell_type": "code",
   "execution_count": 32,
   "metadata": {},
   "outputs": [
    {
     "output_type": "execute_result",
     "data": {
      "text/plain": "1       10\n2      280\n3         \n4         \n5         \n      ... \n206       \n207       \n208       \n209       \n210      2\nName: New_Deaths, Length: 210, dtype: object"
     },
     "metadata": {},
     "execution_count": 32
    }
   ],
   "source": [
    "df['New_Deaths']"
   ]
  },
  {
   "cell_type": "markdown",
   "metadata": {},
   "source": [
    "Remove '+' symbol from New_Cases column"
   ]
  },
  {
   "cell_type": "code",
   "execution_count": 33,
   "metadata": {},
   "outputs": [],
   "source": [
    "df['New_Cases'] = df['New_Cases'].str.replace(r'+','')"
   ]
  },
  {
   "cell_type": "code",
   "execution_count": 34,
   "metadata": {},
   "outputs": [
    {
     "output_type": "stream",
     "name": "stdout",
     "text": "<class 'pandas.core.frame.DataFrame'>\nInt64Index: 210 entries, 1 to 210\nData columns (total 9 columns):\n #   Column            Non-Null Count  Dtype \n---  ------            --------------  ----- \n 0   Country           210 non-null    object\n 1   Total_Cases       210 non-null    object\n 2   New_Cases         210 non-null    object\n 3   Total_Deaths      210 non-null    object\n 4   New_Deaths        210 non-null    object\n 5   Total_Recovered   210 non-null    object\n 6   Active_Cases      210 non-null    object\n 7   Serious_Critical  210 non-null    object\n 8   Total_Tests       210 non-null    object\ndtypes: object(9)\nmemory usage: 16.4+ KB\n"
    }
   ],
   "source": [
    "df.info()"
   ]
  },
  {
   "cell_type": "code",
   "execution_count": 35,
   "metadata": {},
   "outputs": [
    {
     "output_type": "execute_result",
     "data": {
      "text/plain": "Country             object\nTotal_Cases         object\nNew_Cases           object\nTotal_Deaths        object\nNew_Deaths          object\nTotal_Recovered     object\nActive_Cases        object\nSerious_Critical    object\nTotal_Tests         object\ndtype: object"
     },
     "metadata": {},
     "execution_count": 35
    }
   ],
   "source": [
    "df.dtypes"
   ]
  },
  {
   "cell_type": "code",
   "execution_count": 36,
   "metadata": {},
   "outputs": [],
   "source": [
    "df = df.replace(',','', regex=True)"
   ]
  },
  {
   "cell_type": "markdown",
   "metadata": {},
   "source": [
    "# to convert all columns to string\n",
    "c = df.select_dtypes(object).columns <br>\n",
    "df[c] = df[c].apply(pd.to_numeric,errors='coerce')"
   ]
  },
  {
   "cell_type": "code",
   "execution_count": 37,
   "metadata": {},
   "outputs": [],
   "source": [
    "# df['Country'] = df['Country'].astype(str)\n",
    "df = df.astype(str)"
   ]
  },
  {
   "cell_type": "markdown",
   "metadata": {},
   "source": [
    "Remove whitespaces from dataframe"
   ]
  },
  {
   "cell_type": "code",
   "execution_count": 38,
   "metadata": {},
   "outputs": [
    {
     "output_type": "execute_result",
     "data": {
      "text/plain": "                   Country Total_Cases New_Cases Total_Deaths New_Deaths  \\\n1                      USA      560433       133       22115          10   \n2                    Spain      169496      2665       17489         280   \n3                    Italy      156363                 19899               \n4                   France      132591                 14393               \n5                  Germany      127854                  3022               \n..                     ...         ...       ...          ...        ...   \n206  Caribbean Netherlands           3                                     \n207       Papua New Guinea           2                                     \n208  Saint Pierre Miquelon           1                                     \n209                  Yemen           1                                     \n210                  China       82160       108        3341           2   \n\n    Total_Recovered Active_Cases Serious_Critical Total_Tests  \n1             32634       505684            11766     2833112  \n2             64727        87280             7371      600000  \n3             34211       102253             3343     1010193  \n4             27186        91012             6845      333807  \n5             64300        60532             4895     1317887  \n..              ...          ...              ...         ...  \n206                            3                           10  \n207                            2                           72  \n208                            1                               \n209                            1                               \n210           77663         1156              121              \n\n[210 rows x 9 columns]",
      "text/html": "<div>\n<style scoped>\n    .dataframe tbody tr th:only-of-type {\n        vertical-align: middle;\n    }\n\n    .dataframe tbody tr th {\n        vertical-align: top;\n    }\n\n    .dataframe thead th {\n        text-align: right;\n    }\n</style>\n<table border=\"1\" class=\"dataframe\">\n  <thead>\n    <tr style=\"text-align: right;\">\n      <th></th>\n      <th>Country</th>\n      <th>Total_Cases</th>\n      <th>New_Cases</th>\n      <th>Total_Deaths</th>\n      <th>New_Deaths</th>\n      <th>Total_Recovered</th>\n      <th>Active_Cases</th>\n      <th>Serious_Critical</th>\n      <th>Total_Tests</th>\n    </tr>\n  </thead>\n  <tbody>\n    <tr>\n      <th>1</th>\n      <td>USA</td>\n      <td>560433</td>\n      <td>133</td>\n      <td>22115</td>\n      <td>10</td>\n      <td>32634</td>\n      <td>505684</td>\n      <td>11766</td>\n      <td>2833112</td>\n    </tr>\n    <tr>\n      <th>2</th>\n      <td>Spain</td>\n      <td>169496</td>\n      <td>2665</td>\n      <td>17489</td>\n      <td>280</td>\n      <td>64727</td>\n      <td>87280</td>\n      <td>7371</td>\n      <td>600000</td>\n    </tr>\n    <tr>\n      <th>3</th>\n      <td>Italy</td>\n      <td>156363</td>\n      <td></td>\n      <td>19899</td>\n      <td></td>\n      <td>34211</td>\n      <td>102253</td>\n      <td>3343</td>\n      <td>1010193</td>\n    </tr>\n    <tr>\n      <th>4</th>\n      <td>France</td>\n      <td>132591</td>\n      <td></td>\n      <td>14393</td>\n      <td></td>\n      <td>27186</td>\n      <td>91012</td>\n      <td>6845</td>\n      <td>333807</td>\n    </tr>\n    <tr>\n      <th>5</th>\n      <td>Germany</td>\n      <td>127854</td>\n      <td></td>\n      <td>3022</td>\n      <td></td>\n      <td>64300</td>\n      <td>60532</td>\n      <td>4895</td>\n      <td>1317887</td>\n    </tr>\n    <tr>\n      <th>...</th>\n      <td>...</td>\n      <td>...</td>\n      <td>...</td>\n      <td>...</td>\n      <td>...</td>\n      <td>...</td>\n      <td>...</td>\n      <td>...</td>\n      <td>...</td>\n    </tr>\n    <tr>\n      <th>206</th>\n      <td>Caribbean Netherlands</td>\n      <td>3</td>\n      <td></td>\n      <td></td>\n      <td></td>\n      <td></td>\n      <td>3</td>\n      <td></td>\n      <td>10</td>\n    </tr>\n    <tr>\n      <th>207</th>\n      <td>Papua New Guinea</td>\n      <td>2</td>\n      <td></td>\n      <td></td>\n      <td></td>\n      <td></td>\n      <td>2</td>\n      <td></td>\n      <td>72</td>\n    </tr>\n    <tr>\n      <th>208</th>\n      <td>Saint Pierre Miquelon</td>\n      <td>1</td>\n      <td></td>\n      <td></td>\n      <td></td>\n      <td></td>\n      <td>1</td>\n      <td></td>\n      <td></td>\n    </tr>\n    <tr>\n      <th>209</th>\n      <td>Yemen</td>\n      <td>1</td>\n      <td></td>\n      <td></td>\n      <td></td>\n      <td></td>\n      <td>1</td>\n      <td></td>\n      <td></td>\n    </tr>\n    <tr>\n      <th>210</th>\n      <td>China</td>\n      <td>82160</td>\n      <td>108</td>\n      <td>3341</td>\n      <td>2</td>\n      <td>77663</td>\n      <td>1156</td>\n      <td>121</td>\n      <td></td>\n    </tr>\n  </tbody>\n</table>\n<p>210 rows × 9 columns</p>\n</div>"
     },
     "metadata": {},
     "execution_count": 38
    }
   ],
   "source": [
    "df.applymap(lambda x: x.strip() if type(x)==object else x)"
   ]
  },
  {
   "cell_type": "markdown",
   "metadata": {},
   "source": [
    "Can use seperate function to remove_whitespace <br>\n",
    "def remove_whitespace(x): <br>\n",
    "    try:\n",
    "        # remove spaces inside and outside of string\n",
    "        x = \" \".join(x.split())\n",
    "\n",
    "    except:\n",
    "        pass\n",
    "    return x"
   ]
  },
  {
   "cell_type": "code",
   "execution_count": 40,
   "metadata": {},
   "outputs": [],
   "source": [
    "df['New_Deaths']=df['New_Deaths'].apply(lambda x: x.replace(' ',''))"
   ]
  },
  {
   "cell_type": "markdown",
   "metadata": {},
   "source": [
    "Convert all values except Country column into numeric values"
   ]
  },
  {
   "cell_type": "code",
   "execution_count": 41,
   "metadata": {},
   "outputs": [],
   "source": [
    "df.loc[:,df.columns != 'Country'] = df.loc[:,df.columns != 'Country'].apply(pd.to_numeric,errors='coerce')"
   ]
  },
  {
   "cell_type": "markdown",
   "metadata": {},
   "source": [
    "Fill all empty values with 0"
   ]
  },
  {
   "cell_type": "code",
   "execution_count": 42,
   "metadata": {},
   "outputs": [],
   "source": [
    "df.loc[:,df.columns != 'Country'] = df.loc[:,df.columns != 'Country'].fillna(0)"
   ]
  },
  {
   "cell_type": "markdown",
   "metadata": {},
   "source": [
    "Convert values to integer"
   ]
  },
  {
   "cell_type": "code",
   "execution_count": 43,
   "metadata": {},
   "outputs": [],
   "source": [
    "df.loc[:,df.columns != 'Country'] = df.loc[:,df.columns != 'Country'].astype(int)"
   ]
  },
  {
   "cell_type": "markdown",
   "metadata": {},
   "source": [
    "Create sum of all columns seperately using sum() function and store respectively"
   ]
  },
  {
   "cell_type": "code",
   "execution_count": 51,
   "metadata": {},
   "outputs": [],
   "source": [
    "w_total_cases = df['Total_Cases'].sum()\n",
    "w_new_cases = df['New_Cases'].sum()\n",
    "w_total_deaths = df['Total_Deaths'].sum()\n",
    "w_new_deaths = df['New_Deaths'].sum()\n",
    "w_total_recovered = df['Total_Recovered'].sum()\n",
    "w_active_cases = df['Active_Cases'].sum()\n",
    "w_serious_critical = df['Serious_Critical'].sum()\n",
    "w_total_tests = df['Total_Tests'].sum()"
   ]
  },
  {
   "cell_type": "markdown",
   "metadata": {},
   "source": [
    "Create seperate dataframe 'world_row' to store sum of all columns having index 0 to add at top"
   ]
  },
  {
   "cell_type": "code",
   "execution_count": 52,
   "metadata": {},
   "outputs": [],
   "source": [
    "world_row = pd.DataFrame({'Country': 'World', \n",
    "'Total_Cases':w_total_cases,\n",
    "'New_Cases':w_new_cases,\n",
    "'Total_Deaths':w_total_deaths,\n",
    "'New_Deaths':w_new_deaths,\n",
    "'Total_Recovered':w_total_recovered,\n",
    "'Active_Cases':w_active_cases,\n",
    "'Serious_Critical':w_serious_critical,\n",
    "'Total_Tests':w_total_tests}, \n",
    "index =[0])"
   ]
  },
  {
   "cell_type": "markdown",
   "metadata": {},
   "source": [
    "Concatenate 'world_row' dataframe to our existing dataframe to store value of total world data"
   ]
  },
  {
   "cell_type": "code",
   "execution_count": 53,
   "metadata": {},
   "outputs": [],
   "source": [
    "df = pd.concat([world_row, df]).reset_index(drop = True) "
   ]
  },
  {
   "cell_type": "markdown",
   "metadata": {},
   "source": [
    "Sort values by 'Total_Cases' in descending order"
   ]
  },
  {
   "cell_type": "code",
   "execution_count": 54,
   "metadata": {},
   "outputs": [],
   "source": [
    "df = df.sort_values(by='Total_Cases', ascending=False)"
   ]
  },
  {
   "cell_type": "markdown",
   "metadata": {},
   "source": [
    "Reset index from 1"
   ]
  },
  {
   "cell_type": "code",
   "execution_count": 55,
   "metadata": {},
   "outputs": [],
   "source": [
    "df.index = np.arange(1, len(df)+1) ### for index from 1"
   ]
  },
  {
   "cell_type": "markdown",
   "metadata": {},
   "source": [
    "Store dataframe in csv file"
   ]
  },
  {
   "cell_type": "code",
   "execution_count": 56,
   "metadata": {},
   "outputs": [],
   "source": [
    "df.to_csv('text.csv')"
   ]
  },
  {
   "cell_type": "code",
   "execution_count": 57,
   "metadata": {},
   "outputs": [
    {
     "output_type": "execute_result",
     "data": {
      "text/plain": "                    Country Total_Cases New_Cases Total_Deaths New_Deaths  \\\n207  British Virgin Islands           3         0            0          0   \n208   Caribbean Netherlands           3         0            0          0   \n209        Papua New Guinea           2         0            0          0   \n210   Saint Pierre Miquelon           1         0            0          0   \n211                   Yemen           1         0            0          0   \n\n    Total_Recovered Active_Cases Serious_Critical Total_Tests  \n207               2            1                0           0  \n208               0            3                0          10  \n209               0            2                0          72  \n210               0            1                0           0  \n211               0            1                0           0  ",
      "text/html": "<div>\n<style scoped>\n    .dataframe tbody tr th:only-of-type {\n        vertical-align: middle;\n    }\n\n    .dataframe tbody tr th {\n        vertical-align: top;\n    }\n\n    .dataframe thead th {\n        text-align: right;\n    }\n</style>\n<table border=\"1\" class=\"dataframe\">\n  <thead>\n    <tr style=\"text-align: right;\">\n      <th></th>\n      <th>Country</th>\n      <th>Total_Cases</th>\n      <th>New_Cases</th>\n      <th>Total_Deaths</th>\n      <th>New_Deaths</th>\n      <th>Total_Recovered</th>\n      <th>Active_Cases</th>\n      <th>Serious_Critical</th>\n      <th>Total_Tests</th>\n    </tr>\n  </thead>\n  <tbody>\n    <tr>\n      <th>207</th>\n      <td>British Virgin Islands</td>\n      <td>3</td>\n      <td>0</td>\n      <td>0</td>\n      <td>0</td>\n      <td>2</td>\n      <td>1</td>\n      <td>0</td>\n      <td>0</td>\n    </tr>\n    <tr>\n      <th>208</th>\n      <td>Caribbean Netherlands</td>\n      <td>3</td>\n      <td>0</td>\n      <td>0</td>\n      <td>0</td>\n      <td>0</td>\n      <td>3</td>\n      <td>0</td>\n      <td>10</td>\n    </tr>\n    <tr>\n      <th>209</th>\n      <td>Papua New Guinea</td>\n      <td>2</td>\n      <td>0</td>\n      <td>0</td>\n      <td>0</td>\n      <td>0</td>\n      <td>2</td>\n      <td>0</td>\n      <td>72</td>\n    </tr>\n    <tr>\n      <th>210</th>\n      <td>Saint Pierre Miquelon</td>\n      <td>1</td>\n      <td>0</td>\n      <td>0</td>\n      <td>0</td>\n      <td>0</td>\n      <td>1</td>\n      <td>0</td>\n      <td>0</td>\n    </tr>\n    <tr>\n      <th>211</th>\n      <td>Yemen</td>\n      <td>1</td>\n      <td>0</td>\n      <td>0</td>\n      <td>0</td>\n      <td>0</td>\n      <td>1</td>\n      <td>0</td>\n      <td>0</td>\n    </tr>\n  </tbody>\n</table>\n</div>"
     },
     "metadata": {},
     "execution_count": 57
    }
   ],
   "source": [
    "df.tail()"
   ]
  },
  {
   "cell_type": "markdown",
   "metadata": {},
   "source": [
    "You can also view dataframe in html file"
   ]
  },
  {
   "cell_type": "code",
   "execution_count": 48,
   "metadata": {},
   "outputs": [],
   "source": [
    "df.to_html('index.html')"
   ]
  }
 ]
}